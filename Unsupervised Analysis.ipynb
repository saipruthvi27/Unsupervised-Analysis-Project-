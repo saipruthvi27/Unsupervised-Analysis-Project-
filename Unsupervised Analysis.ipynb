{
 "cells": [
  {
   "cell_type": "markdown",
   "metadata": {},
   "source": [
    "# Analysis Project: Windows or Mac?"
   ]
  },
  {
   "cell_type": "markdown",
   "metadata": {},
   "source": [
    "## Intro, Imports & Data"
   ]
  },
  {
   "cell_type": "code",
   "execution_count": 1,
   "metadata": {
    "ExecuteTime": {
     "end_time": "2021-02-01T06:37:05.259304Z",
     "start_time": "2021-02-01T06:37:03.664313Z"
    },
    "code_folding": [
     0
    ]
   },
   "outputs": [],
   "source": [
    "# Imports\n",
    "import numpy as np\n",
    "import random as rand\n",
    "import pandas as pd\n",
    "import matplotlib.pyplot as plt\n",
    "import seaborn as sns\n",
    "import statsmodels.formula.api as smf\n",
    "import sklearn.linear_model\n",
    "import statsmodels.api as sm\n",
    "\n",
    "from sklearn.preprocessing import StandardScaler\n",
    "from sklearn.decomposition import PCA\n",
    "from scipy.cluster.hierarchy import dendrogram, linkage\n",
    "from sklearn.cluster import KMeans\n",
    "from sklearn.model_selection import train_test_split\n",
    "from sklearn.preprocessing import PowerTransformer\n",
    "\n",
    "import warnings\n",
    "warnings.simplefilter(action='ignore', category=FutureWarning)\n",
    "\n",
    "# Loading Dataset\n",
    "file = './dataset/survey_data.xlsx'\n",
    "survey = pd.read_excel(io=file)\n",
    "\n",
    "# Pandas print options\n",
    "pd.set_option('display.max_rows', None)\n",
    "pd.set_option('display.max_columns', None)\n",
    "pd.set_option('display.width', None)\n",
    "pd.set_option('display.max_colwidth', None)\n",
    "\n",
    "# Edits \n",
    "survey.rename({'What is your nationality? ': 'Nationality?'}, axis=1, inplace=True)\n",
    "survey.rename({'What laptop do you currently have?': 'Current_Laptop'}, axis=1, inplace=True)\n",
    "survey.rename({'What laptop would you buy in next assuming if all laptops cost the same?': 'Wished_Laptop'}, axis=1, inplace=True)\n",
    "survey.rename({'What is your age?': 'Age?'}, axis=1, inplace=True)\n",
    "survey.rename({'What is your ethnicity?': 'Ethnicity?'}, axis=1, inplace=True)\n",
    "survey.rename({'What program are you in?': 'Program?'}, axis=1, inplace=True)\n",
    "survey.rename({\"Don't  generate ideas that are new and different\": \"Don't generate ideas that are new and different\"}, axis=1, inplace=True)"
   ]
  },
  {
   "cell_type": "markdown",
   "metadata": {},
   "source": [
    "### Data Cleanse & Features"
   ]
  },
  {
   "cell_type": "markdown",
   "metadata": {},
   "source": [
    "#### Missing Values"
   ]
  },
  {
   "cell_type": "markdown",
   "metadata": {},
   "source": [
    "This dataset has no missing values. "
   ]
  },
  {
   "cell_type": "code",
   "execution_count": 2,
   "metadata": {
    "ExecuteTime": {
     "end_time": "2021-02-01T06:37:05.275305Z",
     "start_time": "2021-02-01T06:37:05.260305Z"
    },
    "code_folding": [
     0
    ]
   },
   "outputs": [],
   "source": [
    "# Code for Checking Missing Values: \n",
    "# \n",
    "# print(survey.isnull().any().any())"
   ]
  },
  {
   "cell_type": "markdown",
   "metadata": {},
   "source": [
    "#### Deleting Inconsistent Observations"
   ]
  },
  {
   "cell_type": "markdown",
   "metadata": {},
   "source": [
    "The following code deletes rows if responses to control questions are over 1 point away from their original responses. "
   ]
  },
  {
   "cell_type": "code",
   "execution_count": 3,
   "metadata": {
    "ExecuteTime": {
     "end_time": "2021-02-01T06:37:05.291309Z",
     "start_time": "2021-02-01T06:37:05.276306Z"
    },
    "code_folding": [
     0
    ]
   },
   "outputs": [],
   "source": [
    "# Creating 3 new columns to flag absolute differences over 1\n",
    "\n",
    "survey['RespondX'] = abs(\n",
    "    survey[\"Respond effectively to multiple priorities.1\"] -\n",
    "    survey[\"Respond effectively to multiple priorities\"])\n",
    "survey['TakeX'] = abs(\n",
    "    survey[\n",
    "        \"Take initiative even when circumstances, objectives, or rules aren't clear.1\"]\n",
    "    - survey[\n",
    "        \"Take initiative even when circumstances, objectives, or rules aren't clear\"]\n",
    ")\n",
    "survey['EncourageX'] = abs(survey[\"Encourage direct and open discussions.1\"] -\n",
    "                           survey[\"Encourage direct and open discussions\"])\n",
    "\n",
    "# Deleting observations based on condition\n",
    "\n",
    "index_ResX = survey[survey['RespondX'] > 1].index\n",
    "survey.drop(index_ResX, inplace=True)\n",
    "\n",
    "index_TakeX = survey[survey['TakeX'] > 1].index\n",
    "survey.drop(index_TakeX, inplace=True)\n",
    "\n",
    "index_EncX = survey[survey['EncourageX'] > 1].index\n",
    "survey.drop(index_EncX, inplace=True)\n",
    "\n",
    "# Deleting dummy columns once done\n",
    "\n",
    "survey = survey.drop('RespondX', axis=1)\n",
    "survey = survey.drop('TakeX', axis=1)\n",
    "survey = survey.drop('EncourageX', axis=1)\n",
    "\n",
    "# Deleting duplicate columns marked as .1\n",
    "\n",
    "survey = survey.drop(\"Respond effectively to multiple priorities.1\", axis=1)\n",
    "survey = survey.drop(\"Take initiative even when circumstances, objectives, or rules aren't clear.1\", axis=1)\n",
    "survey = survey.drop(\"Encourage direct and open discussions.1\", axis=1)"
   ]
  },
  {
   "cell_type": "markdown",
   "metadata": {},
   "source": [
    "We deleted 7-8 observations as a result. We suspected these were untrustworthy."
   ]
  },
  {
   "cell_type": "markdown",
   "metadata": {},
   "source": [
    "#### Dummy Variables"
   ]
  },
  {
   "cell_type": "code",
   "execution_count": 4,
   "metadata": {
    "ExecuteTime": {
     "end_time": "2021-02-01T06:37:05.339304Z",
     "start_time": "2021-02-01T06:37:05.292309Z"
    },
    "code_folding": [
     0
    ]
   },
   "outputs": [],
   "source": [
    "# Setting Dummies for Laptop Choices\n",
    "survey['Current_Dummy'] = 0\n",
    "survey['Wished_Dummy'] = 0\n",
    "\n",
    "for index, value in survey.iterrows():\n",
    "\n",
    "    if survey.loc[index, 'Current_Laptop'] == 'Windows laptop':\n",
    "        survey.loc[index, 'Current_Dummy'] = 1\n",
    "        \n",
    "    if survey.loc[index, 'Wished_Laptop'] == 'Windows laptop':\n",
    "        survey.loc[index, 'Wished_Dummy'] = 1\n",
    "\n",
    "    if survey.loc[index, 'Wished_Laptop'] == 'Chromebook':\n",
    "        survey.loc[index, 'Wished_Dummy'] = 2\n",
    "        \n",
    "dummies = ['Current_Dummy','Wished_Dummy']"
   ]
  },
  {
   "cell_type": "markdown",
   "metadata": {},
   "source": [
    "### Variable Groupings"
   ]
  },
  {
   "cell_type": "markdown",
   "metadata": {},
   "source": [
    "#### Negative Variable Scales"
   ]
  },
  {
   "cell_type": "markdown",
   "metadata": {},
   "source": [
    "From the web: \n",
    "\n",
    "<blockquote>\n",
    "\"Here is how to score IPIP scales:<br><br>\n",
    "For + keyed items, the response \"Very Inaccurate\" is assigned a value of 1, \"Moderately Inaccurate\" a value of 2, \"Neither Inaccurate nor Accurate\" a 3, \"Moderately Accurate\" a 4, and \"Very Accurate\" a value of 5.<br><br>\n",
    "For - keyed items, the response \"Very Inaccurate\" is assigned a value of 5, \"Moderately Inaccurate\" a value of 4, \"Neither Inaccurate nor Accurate\" a 3, \"Moderately Accurate\" a 2, and \"Very Accurate\" a value of 1.\"\n",
    "</blockquote>\n",
    "<br>\n",
    "<b>We will assume that the scales are in order, and already reversed.</b>"
   ]
  },
  {
   "cell_type": "code",
   "execution_count": 5,
   "metadata": {
    "ExecuteTime": {
     "end_time": "2021-02-01T06:37:05.355292Z",
     "start_time": "2021-02-01T06:37:05.340305Z"
    },
    "code_folding": [
     0
    ]
   },
   "outputs": [],
   "source": [
    "# Grouping Variables\n",
    "demographics = survey.loc[:,'Program?':'Ethnicity?']\n",
    "\n",
    "psychographics = survey.loc[:,'Am the life of the party':'Drive for results']\n",
    "\n",
    "current_laptop = survey.loc[:,'Current_Laptop']\n",
    "\n",
    "wished_laptop = survey.loc[:,'Wished_Laptop']"
   ]
  },
  {
   "cell_type": "markdown",
   "metadata": {},
   "source": [
    "#### Grouping Responses by Personality Trait"
   ]
  },
  {
   "cell_type": "code",
   "execution_count": 6,
   "metadata": {
    "ExecuteTime": {
     "end_time": "2021-02-01T06:37:05.371295Z",
     "start_time": "2021-02-01T06:37:05.356292Z"
    },
    "code_folding": [
     0
    ]
   },
   "outputs": [],
   "source": [
    "# EXTRAVERSION\n",
    "\n",
    "extrav = [\n",
    "    \"Am the life of the party\", \"Don't talk a lot\",\n",
    "    \"Feel comfortable around people\", \"Keep in the background\",\n",
    "    \"Start conversations\", \"Have little to say\",\n",
    "    \"Talk to a lot of different people at parties\",\n",
    "    \"Don't like to draw attention to myself\",\n",
    "    \"Don't mind being the center of attention\", \"Am quiet around strangers\"\n",
    "]\n",
    "\n",
    "# AGREEABLENESS\n",
    "\n",
    "agree = [\n",
    "    \"Feel little concern for others\", \"Am interested in people\",\n",
    "    \"Insult people\", \"Sympathize with others' feelings\",\n",
    "    \"Am not interested in other people's problems\", \"Have a soft heart\",\n",
    "    \"Am not really interested in others\", \"Take time out for others\",\n",
    "    \"Feel others' emotions\", \"Make people feel at ease\"\n",
    "]\n",
    "\n",
    "# CONSCIENTIOUSNESS\n",
    "\n",
    "conscient = [\n",
    "    \"Am always prepared\", \"Leave my belongings around\",\n",
    "    \"Pay attention to details\", \"Make a mess of things\",\n",
    "    \"Get chores done right away\",\n",
    "    \"Often forget to put things back in their proper place\", \"Like order\",\n",
    "    \"Shirk my duties\", \"Follow a schedule\", \"Am exacting in my work\"\n",
    "]\n",
    "\n",
    "# EMOTIONAL STABILITY\n",
    "emotion = [\n",
    "    \"Get stressed out easily\", \"Am relaxed most of the time\",\n",
    "    \"Worry about things\", \"Seldom feel blue\", \"Am easily disturbed\",\n",
    "    \"Get upset easily\", \"Change my mood a lot\", \"Have frequent mood swings\",\n",
    "    \"Get irritated easily\", \"Often feel blue\"\n",
    "]\n",
    "\n",
    "# INTELLECT\n",
    "\n",
    "intellect = [\n",
    "    \"Have a rich vocabulary\", \"Have difficulty understanding abstract ideas\",\n",
    "    \"Have a vivid imagination\", \"Am not interested in abstract ideas\",\n",
    "    \"Have excellent ideas\", \"Do not have a good imagination\",\n",
    "    \"Am quick to understand things\", \"Use difficult words\",\n",
    "    \"Spend time reflecting on things\", \"Am full of ideas\"\n",
    "]"
   ]
  },
  {
   "cell_type": "markdown",
   "metadata": {},
   "source": [
    "#### Hult DNA Grouping"
   ]
  },
  {
   "cell_type": "code",
   "execution_count": 7,
   "metadata": {
    "ExecuteTime": {
     "end_time": "2021-02-01T06:37:05.387299Z",
     "start_time": "2021-02-01T06:37:05.372296Z"
    },
    "code_folding": [
     0
    ]
   },
   "outputs": [],
   "source": [
    "# Grouping Variables\n",
    "thinking = [\n",
    "    'Display a growth mindset', 'Respond effectively to multiple priorities',\n",
    "    \"Take initiative even when circumstances, objectives, or rules aren't clear\",\n",
    "    'Drive for results',\n",
    "    \"Translate ideas into plans that are organized and realistic\"\n",
    "]\n",
    "communication = [\n",
    "    'Listen carefully to others', \"Don't persuasively sell a vision or idea\",\n",
    "    'Effectively negotiate interests, resources, and roles',\n",
    "    'Seek and use feedback from teammates',\n",
    "    'Encourage direct and open discussions'\n",
    "]\n",
    "\n",
    "teamplay = [\n",
    "    'Build cooperative relationships',\n",
    "    'Work well with people from diverse cultural backgrounds',\n",
    "    \"Can't rally people on the team around a common goal\",\n",
    "    'Resolve conflicts constructively',\n",
    "    'Coach teammates for performance and growth'\n",
    "]"
   ]
  },
  {
   "cell_type": "markdown",
   "metadata": {},
   "source": [
    "#### Consolidated Variables "
   ]
  },
  {
   "cell_type": "code",
   "execution_count": 8,
   "metadata": {
    "ExecuteTime": {
     "end_time": "2021-02-01T06:37:05.403303Z",
     "start_time": "2021-02-01T06:37:05.389300Z"
    },
    "code_folding": [
     0
    ]
   },
   "outputs": [],
   "source": [
    "# Create 5 new 'Big 5' variables\n",
    "\n",
    "# 1\n",
    "survey['Extrovert']=survey.loc[:,extrav].sum(axis=1)  \n",
    "# 2\n",
    "survey['Agreeable']=survey.loc[:,agree].sum(axis=1)\n",
    "# 3\n",
    "survey['Conscient']=survey.loc[:,conscient].sum(axis=1)\n",
    "# 4\n",
    "survey['Emotional']=survey.loc[:,emotion].sum(axis=1)\n",
    "# 5\n",
    "survey['Intelligent']=survey.loc[:,intellect].sum(axis=1)"
   ]
  },
  {
   "cell_type": "code",
   "execution_count": 9,
   "metadata": {
    "ExecuteTime": {
     "end_time": "2021-02-01T06:37:05.419306Z",
     "start_time": "2021-02-01T06:37:05.404303Z"
    },
    "code_folding": [
     0
    ]
   },
   "outputs": [],
   "source": [
    "# Create 3 new 'HULT DNA' variables\n",
    "\n",
    "# 1\n",
    "survey['Thinker']=survey.loc[:,thinking].sum(axis=1) \n",
    "# 2\n",
    "survey['Communicator']=survey.loc[:,communication].sum(axis=1) \n",
    "# 3\n",
    "survey['Team_Player']=survey.loc[:,teamplay].sum(axis=1) "
   ]
  },
  {
   "cell_type": "markdown",
   "metadata": {},
   "source": [
    "#### Custom Variables"
   ]
  },
  {
   "cell_type": "markdown",
   "metadata": {},
   "source": [
    "##### TOTAL BIG FIVE SCORE"
   ]
  },
  {
   "cell_type": "code",
   "execution_count": 10,
   "metadata": {
    "ExecuteTime": {
     "end_time": "2021-02-01T06:37:05.579342Z",
     "start_time": "2021-02-01T06:37:05.420307Z"
    },
    "code_folding": [
     0
    ]
   },
   "outputs": [
    {
     "data": {
      "image/png": "[encoded data removed]",
      "text/plain": [
       "<Figure size 648x432 with 1 Axes>"
      ]
     },
     "metadata": {
      "needs_background": "light"
     },
     "output_type": "display_data"
    },
    {
     "name": "stdout",
     "output_type": "stream",
     "text": [
      "count    129.0\n",
      "mean     155.5\n",
      "std       12.4\n",
      "min      131.0\n",
      "25%      147.0\n",
      "50%      154.0\n",
      "75%      163.0\n",
      "max      208.0\n",
      "Name: Total_Score, dtype: float64\n"
     ]
    }
   ],
   "source": [
    "# The higher Big 5 score, the better. What is 'average'?\n",
    "survey['Total_Score'] = survey['Extrovert'] + survey['Agreeable'] + survey[\n",
    "    'Conscient'] + survey['Emotional'] + survey['Intelligent']\n",
    "\n",
    "# Plotting Cumulative Distribution\n",
    "sns.displot(data=survey, x='Total_Score', height=6, aspect=1.5, kind='ecdf')\n",
    "plt.show()\n",
    "print(survey['Total_Score'].describe().round(1))"
   ]
  },
  {
   "cell_type": "markdown",
   "metadata": {},
   "source": [
    "We see that: \n",
    "- The average score is 155. \n",
    "- Data is skewed towards 'above-average'. HULT students are therefore very well-rounded people (or delusional).  "
   ]
  },
  {
   "cell_type": "markdown",
   "metadata": {},
   "source": [
    "##### GALACTIC GENIUS / OVERBLOWN EGOS"
   ]
  },
  {
   "cell_type": "markdown",
   "metadata": {},
   "source": [
    "External research suggest that tech-savvy, above-average people prefer Windows by wide margins.<br>\n",
    "We should code in a dummy variable to control for this.<br>\n",
    "We take the average as a reference point, since this is the _HULT average_. "
   ]
  },
  {
   "cell_type": "code",
   "execution_count": 11,
   "metadata": {
    "ExecuteTime": {
     "end_time": "2021-02-01T06:37:05.611305Z",
     "start_time": "2021-02-01T06:37:05.580342Z"
    },
    "code_folding": [
     0
    ]
   },
   "outputs": [],
   "source": [
    "# Galactic Genius Var\n",
    "survey['Galactic_Genius'] = 0\n",
    "\n",
    "for index, value in survey.iterrows():\n",
    "\n",
    "    if survey.loc[index, 'Total_Score'] > 155:\n",
    "        survey.loc[index, 'Galactic_Genius'] = 1"
   ]
  },
  {
   "cell_type": "markdown",
   "metadata": {},
   "source": [
    "##### EXCEPTIONAL HULT DNA HOLDERS"
   ]
  },
  {
   "cell_type": "markdown",
   "metadata": {},
   "source": [
    "A variable for students who are _extremely HULT_. The group average is ~57.5."
   ]
  },
  {
   "cell_type": "code",
   "execution_count": 12,
   "metadata": {
    "ExecuteTime": {
     "end_time": "2021-02-01T06:37:05.659304Z",
     "start_time": "2021-02-01T06:37:05.612306Z"
    },
    "code_folding": [
     0
    ]
   },
   "outputs": [],
   "source": [
    "# Hult DNA Var\n",
    "survey['Hult_Score'] = survey['Thinker'] + survey['Communicator'] + survey['Team_Player']\n",
    "\n",
    "survey['Hultian'] = 0\n",
    "\n",
    "for index, value in survey.iterrows():\n",
    "\n",
    "    if survey.loc[index, 'Hult_Score'] > np.mean(survey['Hult_Score']):\n",
    "        survey.loc[index, 'Hultian'] = 1"
   ]
  },
  {
   "cell_type": "markdown",
   "metadata": {},
   "source": [
    "### Slicing Dataset"
   ]
  },
  {
   "cell_type": "markdown",
   "metadata": {},
   "source": [
    "#### Dataset A"
   ]
  },
  {
   "cell_type": "code",
   "execution_count": 13,
   "metadata": {
    "ExecuteTime": {
     "end_time": "2021-02-01T06:37:05.675305Z",
     "start_time": "2021-02-01T06:37:05.660305Z"
    },
    "code_folding": [
     0
    ]
   },
   "outputs": [],
   "source": [
    "# Copying and Dropping \n",
    "df_copy = survey.copy() \n",
    "minimal_df = df_copy.drop(psychographics, axis=1)\n",
    "minimal_df = minimal_df.drop(demographics, axis=1)\n",
    "minimal_df = minimal_df.drop('Wished_Laptop', axis=1)\n",
    "minimal_df = minimal_df.drop('Current_Laptop', axis=1)\n",
    "minimal_df = minimal_df.drop(dummies, axis=1)\n",
    "minimal_df = minimal_df.drop('surveyID', axis=1)"
   ]
  },
  {
   "cell_type": "markdown",
   "metadata": {},
   "source": [
    "## Scaling for PCA"
   ]
  },
  {
   "cell_type": "markdown",
   "metadata": {},
   "source": [
    "Scaling so as to set variance = 1.0 for our minial dataset."
   ]
  },
  {
   "cell_type": "code",
   "execution_count": 14,
   "metadata": {
    "ExecuteTime": {
     "end_time": "2021-02-01T06:37:05.691305Z",
     "start_time": "2021-02-01T06:37:05.676306Z"
    },
    "code_folding": [
     0
    ]
   },
   "outputs": [],
   "source": [
    "# INSTANTIATING a StandardScaler() object\n",
    "scaler = StandardScaler()\n",
    "\n",
    "# FITTING the scaler with the data\n",
    "scaler.fit(minimal_df)\n",
    "\n",
    "# TRANSFORMING our data after fit\n",
    "X_scaled = scaler.transform(minimal_df)\n",
    "\n",
    "# converting scaled data into a DataFrame\n",
    "minimal_scaled = pd.DataFrame(X_scaled)\n",
    "\n",
    "# reattaching column names\n",
    "minimal_scaled.columns = minimal_df.columns"
   ]
  },
  {
   "cell_type": "markdown",
   "metadata": {},
   "source": [
    "## User-Defined Functions"
   ]
  },
  {
   "cell_type": "markdown",
   "metadata": {},
   "source": [
    "UDFs which we will need later on. "
   ]
  },
  {
   "cell_type": "code",
   "execution_count": 15,
   "metadata": {
    "ExecuteTime": {
     "end_time": "2021-02-01T06:37:05.707309Z",
     "start_time": "2021-02-01T06:37:05.692306Z"
    },
    "code_folding": [
     0
    ]
   },
   "outputs": [],
   "source": [
    "# inertia\n",
    "########################################\n",
    "def interia_plot(data, max_clust=50):\n",
    "    \"\"\"\n",
    "PARAMETERS\n",
    "----------\n",
    "data      : DataFrame, data from which to build clusters. Dataset should be scaled\n",
    "max_clust : int, maximum of range for how many clusters to check interia, default 50\n",
    "    \"\"\"\n",
    "\n",
    "    ks = range(1, max_clust)\n",
    "    inertias = []\n",
    "\n",
    "    for k in ks:\n",
    "        # INSTANTIATING a kmeans object\n",
    "        model = KMeans(n_clusters=k)\n",
    "\n",
    "        # FITTING to the data\n",
    "        model.fit(data)\n",
    "\n",
    "        # append each inertia to the list of inertias\n",
    "        inertias.append(model.inertia_)\n",
    "\n",
    "    # plotting ks vs inertias\n",
    "    fig, ax = plt.subplots(figsize=(12, 8))\n",
    "    plt.plot(ks, inertias, '-o')\n",
    "\n",
    "    # labeling and displaying the plot\n",
    "    plt.xlabel('number of clusters, k')\n",
    "    plt.ylabel('inertia')\n",
    "    plt.xticks(ks)\n",
    "    plt.show()\n",
    "\n",
    "\n",
    "########################################\n",
    "# scree_plot\n",
    "########################################\n",
    "def scree_plot(pca_object, export=False):\n",
    "    # building a scree plot\n",
    "\n",
    "    # setting plot size\n",
    "    fig, ax = plt.subplots(figsize=(10, 8))\n",
    "    features = range(pca_object.n_components_)\n",
    "\n",
    "    # developing a scree plot\n",
    "    plt.plot(features,\n",
    "             pca_object.explained_variance_ratio_,\n",
    "             linewidth=2,\n",
    "             marker='o',\n",
    "             markersize=10,\n",
    "             markeredgecolor='black',\n",
    "             markerfacecolor='grey')\n",
    "\n",
    "    # setting more plot options\n",
    "    plt.title('Scree Plot')\n",
    "    plt.xlabel('PCA feature')\n",
    "    plt.ylabel('Explained Variance')\n",
    "    plt.xticks(features)\n",
    "\n",
    "    if export == True:\n",
    "\n",
    "        # exporting the plot\n",
    "        plt.savefig(\n",
    "            './analysis_images/top_customers_correlation_scree_plot.png')\n",
    "\n",
    "    # displaying the plot\n",
    "    plt.show()"
   ]
  },
  {
   "cell_type": "markdown",
   "metadata": {},
   "source": [
    "## PCA Modeling"
   ]
  },
  {
   "cell_type": "markdown",
   "metadata": {},
   "source": [
    "<b>IMPORTANT NOTICE:</b> \n",
    "<blockquote> \n",
    "    If you get an error stating that 'SVD did not converge', please simply RE-RUN the affected cell(s). Then, run the cells which follow the affected cell(s) manually.</blockquote>."
   ]
  },
  {
   "cell_type": "markdown",
   "metadata": {},
   "source": [
    "### Base Model"
   ]
  },
  {
   "cell_type": "code",
   "execution_count": 17,
   "metadata": {
    "ExecuteTime": {
     "end_time": "2021-02-01T06:37:09.345336Z",
     "start_time": "2021-02-01T06:37:09.206305Z"
    },
    "code_folding": [
     0
    ]
   },
   "outputs": [
    {
     "data": {
      "image/png": "[encoded data removed]",
      "text/plain": [
       "<Figure size 720x576 with 1 Axes>"
      ]
     },
     "metadata": {
      "needs_background": "light"
     },
     "output_type": "display_data"
    }
   ],
   "source": [
    "# INSTANTIATING a PCA object with no limit to principal components\n",
    "pca = PCA(n_components = None,\n",
    "          random_state = 219)\n",
    "\n",
    "# FITTING and TRANSFORMING\n",
    "survey_pca = pca.fit_transform(minimal_scaled)\n",
    "\n",
    "# calling the scree_plot function\n",
    "scree_plot(pca_object = pca)"
   ]
  },
  {
   "cell_type": "markdown",
   "metadata": {},
   "source": [
    "### Reducing Components "
   ]
  },
  {
   "cell_type": "markdown",
   "metadata": {},
   "source": [
    "Reducing to 5 components so as to catch ~80% of observed variance."
   ]
  },
  {
   "cell_type": "code",
   "execution_count": 18,
   "metadata": {
    "ExecuteTime": {
     "end_time": "2021-02-01T06:37:11.741326Z",
     "start_time": "2021-02-01T06:37:11.725315Z"
    },
    "code_folding": [
     0
    ]
   },
   "outputs": [],
   "source": [
    "# INSTANTIATING a new model using the first 5 principal components\n",
    "pca_5 = PCA(n_components = 5,\n",
    "            random_state = 219)\n",
    "\n",
    "# FITTING and TRANSFORMING\n",
    "survey_pca_5 = pca_5.fit_transform(minimal_scaled)"
   ]
  },
  {
   "cell_type": "markdown",
   "metadata": {},
   "source": [
    "### Factor Loadings"
   ]
  },
  {
   "cell_type": "code",
   "execution_count": 19,
   "metadata": {
    "ExecuteTime": {
     "end_time": "2021-02-01T06:37:15.427305Z",
     "start_time": "2021-02-01T06:37:15.412839Z"
    },
    "code_folding": [
     0
    ]
   },
   "outputs": [],
   "source": [
    "# transposing pca components (pc = MAX)\n",
    "factor_loadings = pd.DataFrame(pd.np.transpose(pca.components_))\n",
    "\n",
    "# naming rows as original features\n",
    "factor_loadings = factor_loadings.set_index(minimal_scaled.columns)\n",
    "\n",
    "##################\n",
    "# transposing pca components (pc = 5)\n",
    "factor_loadings_5 = pd.DataFrame(pd.np.transpose(pca_5.components_))\n",
    "\n",
    "# naming rows as original features\n",
    "factor_loadings_5 = factor_loadings_5.set_index(minimal_scaled.columns)\n",
    "\n",
    "# # checking the results\n",
    "# print(f\"\"\"\n",
    "# MAX Components Factor Loadings\n",
    "# ------------------------------\n",
    "# {factor_loadings.round(2)}\n",
    "\n",
    "\n",
    "# 5 Components Factor Loadings\n",
    "# ------------------------------\n",
    "# {factor_loadings_5.round(2)}\n",
    "# \"\"\")"
   ]
  },
  {
   "cell_type": "code",
   "execution_count": 20,
   "metadata": {
    "ExecuteTime": {
     "end_time": "2021-02-01T06:37:19.378376Z",
     "start_time": "2021-02-01T06:37:19.363372Z"
    },
    "code_folding": [
     0
    ]
   },
   "outputs": [
    {
     "data": {
      "text/html": [
       "<div>\n",
       "<style scoped>\n",
       "    .dataframe tbody tr th:only-of-type {\n",
       "        vertical-align: middle;\n",
       "    }\n",
       "\n",
       "    .dataframe tbody tr th {\n",
       "        vertical-align: top;\n",
       "    }\n",
       "\n",
       "    .dataframe thead th {\n",
       "        text-align: right;\n",
       "    }\n",
       "</style>\n",
       "<table border=\"1\" class=\"dataframe\">\n",
       "  <thead>\n",
       "    <tr style=\"text-align: right;\">\n",
       "      <th></th>\n",
       "      <th>Persona_1</th>\n",
       "      <th>Persona_2</th>\n",
       "      <th>Persona_3</th>\n",
       "      <th>Persona_4</th>\n",
       "      <th>Persona_5</th>\n",
       "    </tr>\n",
       "  </thead>\n",
       "  <tbody>\n",
       "    <tr>\n",
       "      <th>Extrovert</th>\n",
       "      <td>-0.246</td>\n",
       "      <td>0.248</td>\n",
       "      <td>-0.469</td>\n",
       "      <td>-0.042</td>\n",
       "      <td>0.029</td>\n",
       "    </tr>\n",
       "    <tr>\n",
       "      <th>Agreeable</th>\n",
       "      <td>-0.258</td>\n",
       "      <td>0.170</td>\n",
       "      <td>-0.331</td>\n",
       "      <td>-0.293</td>\n",
       "      <td>-0.596</td>\n",
       "    </tr>\n",
       "    <tr>\n",
       "      <th>Conscient</th>\n",
       "      <td>-0.226</td>\n",
       "      <td>0.224</td>\n",
       "      <td>-0.372</td>\n",
       "      <td>0.264</td>\n",
       "      <td>0.617</td>\n",
       "    </tr>\n",
       "    <tr>\n",
       "      <th>Emotional</th>\n",
       "      <td>-0.097</td>\n",
       "      <td>0.388</td>\n",
       "      <td>0.540</td>\n",
       "      <td>0.421</td>\n",
       "      <td>-0.217</td>\n",
       "    </tr>\n",
       "    <tr>\n",
       "      <th>Intelligent</th>\n",
       "      <td>-0.214</td>\n",
       "      <td>0.167</td>\n",
       "      <td>0.325</td>\n",
       "      <td>-0.763</td>\n",
       "      <td>0.217</td>\n",
       "    </tr>\n",
       "    <tr>\n",
       "      <th>Thinker</th>\n",
       "      <td>-0.318</td>\n",
       "      <td>-0.266</td>\n",
       "      <td>0.233</td>\n",
       "      <td>-0.109</td>\n",
       "      <td>0.298</td>\n",
       "    </tr>\n",
       "    <tr>\n",
       "      <th>Communicator</th>\n",
       "      <td>-0.323</td>\n",
       "      <td>-0.267</td>\n",
       "      <td>-0.053</td>\n",
       "      <td>0.134</td>\n",
       "      <td>-0.270</td>\n",
       "    </tr>\n",
       "    <tr>\n",
       "      <th>Team_Player</th>\n",
       "      <td>-0.356</td>\n",
       "      <td>-0.236</td>\n",
       "      <td>-0.083</td>\n",
       "      <td>0.145</td>\n",
       "      <td>-0.084</td>\n",
       "    </tr>\n",
       "    <tr>\n",
       "      <th>Total_Score</th>\n",
       "      <td>-0.315</td>\n",
       "      <td>0.423</td>\n",
       "      <td>0.015</td>\n",
       "      <td>-0.009</td>\n",
       "      <td>-0.008</td>\n",
       "    </tr>\n",
       "    <tr>\n",
       "      <th>Galactic_Genius</th>\n",
       "      <td>-0.269</td>\n",
       "      <td>0.375</td>\n",
       "      <td>0.200</td>\n",
       "      <td>0.140</td>\n",
       "      <td>0.000</td>\n",
       "    </tr>\n",
       "    <tr>\n",
       "      <th>Hult_Score</th>\n",
       "      <td>-0.390</td>\n",
       "      <td>-0.302</td>\n",
       "      <td>0.055</td>\n",
       "      <td>0.053</td>\n",
       "      <td>0.007</td>\n",
       "    </tr>\n",
       "    <tr>\n",
       "      <th>Hultian</th>\n",
       "      <td>-0.333</td>\n",
       "      <td>-0.269</td>\n",
       "      <td>0.165</td>\n",
       "      <td>0.098</td>\n",
       "      <td>0.012</td>\n",
       "    </tr>\n",
       "  </tbody>\n",
       "</table>\n",
       "</div>"
      ],
      "text/plain": [
       "                 Persona_1  Persona_2  Persona_3  Persona_4  Persona_5\n",
       "Extrovert           -0.246      0.248     -0.469     -0.042      0.029\n",
       "Agreeable           -0.258      0.170     -0.331     -0.293     -0.596\n",
       "Conscient           -0.226      0.224     -0.372      0.264      0.617\n",
       "Emotional           -0.097      0.388      0.540      0.421     -0.217\n",
       "Intelligent         -0.214      0.167      0.325     -0.763      0.217\n",
       "Thinker             -0.318     -0.266      0.233     -0.109      0.298\n",
       "Communicator        -0.323     -0.267     -0.053      0.134     -0.270\n",
       "Team_Player         -0.356     -0.236     -0.083      0.145     -0.084\n",
       "Total_Score         -0.315      0.423      0.015     -0.009     -0.008\n",
       "Galactic_Genius     -0.269      0.375      0.200      0.140      0.000\n",
       "Hult_Score          -0.390     -0.302      0.055      0.053      0.007\n",
       "Hultian             -0.333     -0.269      0.165      0.098      0.012"
      ]
     },
     "execution_count": 20,
     "metadata": {},
     "output_type": "execute_result"
    }
   ],
   "source": [
    "# naming each principal component\n",
    "factor_loadings_5.columns = ['Persona_1', 'Persona_2', 'Persona_3','Persona_4','Persona_5']\n",
    "\n",
    "# checking the result\n",
    "factor_loadings_5.round(3)"
   ]
  },
  {
   "cell_type": "code",
   "execution_count": 42,
   "metadata": {
    "ExecuteTime": {
     "end_time": "2021-02-01T06:54:26.981309Z",
     "start_time": "2021-02-01T06:54:26.962306Z"
    },
    "code_folding": [
     0
    ]
   },
   "outputs": [],
   "source": [
    "# analyzing factor strengths per customer\n",
    "X_pca_reduced = pca_5.transform(minimal_scaled)\n",
    "\n",
    "# converting to a DataFrame\n",
    "X_pca_df = pd.DataFrame(X_pca_reduced)\n",
    "\n",
    "# renaming columns\n",
    "X_pca_df.columns = factor_loadings_5.columns\n",
    "\n",
    "# checking the results\n",
    "# X_pca_df"
   ]
  },
  {
   "cell_type": "markdown",
   "metadata": {},
   "source": [
    "## Clustering Analysis"
   ]
  },
  {
   "cell_type": "code",
   "execution_count": 22,
   "metadata": {
    "ExecuteTime": {
     "end_time": "2021-02-01T06:37:27.192303Z",
     "start_time": "2021-02-01T06:37:27.177517Z"
    },
    "code_folding": [
     0
    ]
   },
   "outputs": [
    {
     "data": {
      "text/plain": [
       "Persona_1    4.681803\n",
       "Persona_2    2.865870\n",
       "Persona_3    0.986346\n",
       "Persona_4    0.874793\n",
       "Persona_5    0.754883\n",
       "dtype: float64"
      ]
     },
     "execution_count": 22,
     "metadata": {},
     "output_type": "execute_result"
    }
   ],
   "source": [
    "# checking variance amongst clusters\n",
    "np.var(X_pca_df)"
   ]
  },
  {
   "cell_type": "code",
   "execution_count": 23,
   "metadata": {
    "ExecuteTime": {
     "end_time": "2021-02-01T06:37:31.198305Z",
     "start_time": "2021-02-01T06:37:31.183634Z"
    },
    "code_folding": [
     0
    ]
   },
   "outputs": [
    {
     "name": "stdout",
     "output_type": "stream",
     "text": [
      "Persona_1    4.681803\n",
      "Persona_2    2.865870\n",
      "Persona_3    0.986346\n",
      "Persona_4    0.874793\n",
      "Persona_5    0.754883\n",
      "dtype: float64 \n",
      "\n",
      "\n",
      "Persona_1    1.0\n",
      "Persona_2    1.0\n",
      "Persona_3    1.0\n",
      "Persona_4    1.0\n",
      "Persona_5    1.0\n",
      "dtype: float64\n"
     ]
    }
   ],
   "source": [
    "# INSTANTIATING a StandardScaler() object\n",
    "scaler = StandardScaler()\n",
    "\n",
    "# FITTING the scaler with the data\n",
    "scaler.fit(X_pca_df)\n",
    "\n",
    "# TRANSFORMING our data after fit\n",
    "X_scaled_pca = scaler.transform(X_pca_df)\n",
    "\n",
    "# converting scaled data into a DataFrame\n",
    "pca_scaled = pd.DataFrame(X_scaled_pca)\n",
    "\n",
    "# reattaching column names\n",
    "pca_scaled.columns = ['Persona_1', 'Persona_2', 'Persona_3','Persona_4','Persona_5']\n",
    "\n",
    "# checking pre- and post-scaling variance\n",
    "print(pd.np.var(X_pca_df), '\\n\\n')\n",
    "print(pd.np.var(pca_scaled))"
   ]
  },
  {
   "cell_type": "markdown",
   "metadata": {},
   "source": [
    "### Dendrogram"
   ]
  },
  {
   "cell_type": "code",
   "execution_count": 24,
   "metadata": {
    "ExecuteTime": {
     "end_time": "2021-02-01T06:37:39.226119Z",
     "start_time": "2021-02-01T06:37:35.580305Z"
    },
    "code_folding": [
     0
    ]
   },
   "outputs": [
    {
     "data": {
      "image/png": "[encoded data removed]",
      "text/plain": [
       "<Figure size 864x864 with 1 Axes>"
      ]
     },
     "metadata": {
      "needs_background": "light"
     },
     "output_type": "display_data"
    }
   ],
   "source": [
    "# grouping data based on Ward distance\n",
    "standard_mergings_ward = linkage(y = pca_scaled,\n",
    "                                 method = 'ward',\n",
    "                                 optimal_ordering = True)\n",
    "\n",
    "# setting plot size\n",
    "fig, ax = plt.subplots(figsize=(12, 12))\n",
    "\n",
    "# developing a dendrogram\n",
    "dendrogram(Z = standard_mergings_ward,\n",
    "           leaf_rotation = 90,\n",
    "           leaf_font_size = 6)\n",
    "\n",
    "# displaying the plot\n",
    "plt.show()"
   ]
  },
  {
   "cell_type": "code",
   "execution_count": 25,
   "metadata": {
    "ExecuteTime": {
     "end_time": "2021-02-01T06:37:46.641022Z",
     "start_time": "2021-02-01T06:37:43.601344Z"
    },
    "code_folding": [
     0
    ]
   },
   "outputs": [
    {
     "data": {
      "image/png": "[encoded data removed]",
      "text/plain": [
       "<Figure size 864x576 with 1 Axes>"
      ]
     },
     "metadata": {
      "needs_background": "light"
     },
     "output_type": "display_data"
    }
   ],
   "source": [
    "# calling the inertia_plot() function\n",
    "interia_plot(data = pca_scaled)"
   ]
  },
  {
   "cell_type": "markdown",
   "metadata": {},
   "source": [
    "### K-Means Cluster"
   ]
  },
  {
   "cell_type": "code",
   "execution_count": 26,
   "metadata": {
    "ExecuteTime": {
     "end_time": "2021-02-01T06:37:51.066313Z",
     "start_time": "2021-02-01T06:37:51.036306Z"
    },
    "code_folding": [
     0
    ]
   },
   "outputs": [
    {
     "name": "stdout",
     "output_type": "stream",
     "text": [
      "0    28\n",
      "4    28\n",
      "1    27\n",
      "2    25\n",
      "3    21\n",
      "Name: Cluster, dtype: int64\n"
     ]
    }
   ],
   "source": [
    "# INSTANTIATING a k-Means object with clusters\n",
    "minimal_k_pca = KMeans(n_clusters=5, random_state=219)\n",
    "\n",
    "# fitting the object to the data\n",
    "minimal_k_pca.fit(pca_scaled)\n",
    "\n",
    "# converting the clusters to a DataFrame\n",
    "minimal_kmeans_pca = pd.DataFrame({'Cluster': minimal_k_pca.labels_})\n",
    "\n",
    "# checking the results\n",
    "print(minimal_kmeans_pca.iloc[:, 0].value_counts())"
   ]
  },
  {
   "cell_type": "code",
   "execution_count": 27,
   "metadata": {
    "ExecuteTime": {
     "end_time": "2021-02-01T06:37:55.489308Z",
     "start_time": "2021-02-01T06:37:55.474304Z"
    },
    "code_folding": [
     0
    ]
   },
   "outputs": [
    {
     "data": {
      "text/html": [
       "<div>\n",
       "<style scoped>\n",
       "    .dataframe tbody tr th:only-of-type {\n",
       "        vertical-align: middle;\n",
       "    }\n",
       "\n",
       "    .dataframe tbody tr th {\n",
       "        vertical-align: top;\n",
       "    }\n",
       "\n",
       "    .dataframe thead th {\n",
       "        text-align: right;\n",
       "    }\n",
       "</style>\n",
       "<table border=\"1\" class=\"dataframe\">\n",
       "  <thead>\n",
       "    <tr style=\"text-align: right;\">\n",
       "      <th></th>\n",
       "      <th>Persona_1</th>\n",
       "      <th>Persona_2</th>\n",
       "      <th>Persona_3</th>\n",
       "      <th>Persona_4</th>\n",
       "      <th>Persona_5</th>\n",
       "    </tr>\n",
       "  </thead>\n",
       "  <tbody>\n",
       "    <tr>\n",
       "      <th>0</th>\n",
       "      <td>1.03</td>\n",
       "      <td>0.13</td>\n",
       "      <td>-0.87</td>\n",
       "      <td>-0.23</td>\n",
       "      <td>-0.24</td>\n",
       "    </tr>\n",
       "    <tr>\n",
       "      <th>1</th>\n",
       "      <td>0.11</td>\n",
       "      <td>-0.21</td>\n",
       "      <td>1.04</td>\n",
       "      <td>-0.76</td>\n",
       "      <td>0.61</td>\n",
       "    </tr>\n",
       "    <tr>\n",
       "      <th>2</th>\n",
       "      <td>0.16</td>\n",
       "      <td>0.36</td>\n",
       "      <td>0.65</td>\n",
       "      <td>1.12</td>\n",
       "      <td>0.02</td>\n",
       "    </tr>\n",
       "    <tr>\n",
       "      <th>3</th>\n",
       "      <td>-0.89</td>\n",
       "      <td>1.19</td>\n",
       "      <td>-0.69</td>\n",
       "      <td>-0.01</td>\n",
       "      <td>0.43</td>\n",
       "    </tr>\n",
       "    <tr>\n",
       "      <th>4</th>\n",
       "      <td>-0.60</td>\n",
       "      <td>-1.14</td>\n",
       "      <td>-0.20</td>\n",
       "      <td>-0.03</td>\n",
       "      <td>-0.70</td>\n",
       "    </tr>\n",
       "  </tbody>\n",
       "</table>\n",
       "</div>"
      ],
      "text/plain": [
       "   Persona_1  Persona_2  Persona_3  Persona_4  Persona_5\n",
       "0       1.03       0.13      -0.87      -0.23      -0.24\n",
       "1       0.11      -0.21       1.04      -0.76       0.61\n",
       "2       0.16       0.36       0.65       1.12       0.02\n",
       "3      -0.89       1.19      -0.69      -0.01       0.43\n",
       "4      -0.60      -1.14      -0.20      -0.03      -0.70"
      ]
     },
     "execution_count": 27,
     "metadata": {},
     "output_type": "execute_result"
    }
   ],
   "source": [
    "# storing cluster centers\n",
    "centroids_pca = minimal_k_pca.cluster_centers_\n",
    "\n",
    "# converting cluster centers into a DataFrame\n",
    "centroids_pca_df = pd.DataFrame(centroids_pca)\n",
    "\n",
    "# renaming principal components\n",
    "centroids_pca_df.columns = ['Persona_1', 'Persona_2', 'Persona_3','Persona_4','Persona_5']\n",
    "\n",
    "# checking results (clusters = rows, pc = columns)\n",
    "centroids_pca_df.round(2)"
   ]
  },
  {
   "cell_type": "code",
   "execution_count": 28,
   "metadata": {
    "ExecuteTime": {
     "end_time": "2021-02-01T06:38:00.006465Z",
     "start_time": "2021-02-01T06:37:59.991463Z"
    },
    "code_folding": [
     0
    ]
   },
   "outputs": [
    {
     "name": "stdout",
     "output_type": "stream",
     "text": [
      "                            Program   Age  Gender  Current_Laptop  \\\n",
      "0     DD (MIB & Business Analytics)  25.0  Female         Macbook   \n",
      "1       One year Business Analytics  27.0    Male  Windows laptop   \n",
      "2       One year Business Analytics  25.0    Male  Windows laptop   \n",
      "3       One year Business Analytics  26.0  Female  Windows laptop   \n",
      "4  DD (MBA & Disruptive innovation)  27.0    Male         Macbook   \n",
      "\n",
      "    Wished_Laptop  Cluster  Persona_1  Persona_2  Persona_3  Persona_4  \\\n",
      "0         Macbook      1.0   0.901083  -0.211722  -0.093727   0.016696   \n",
      "1  Windows laptop      2.0  -1.624160   0.596972   0.748899   0.945988   \n",
      "2  Windows laptop      0.0   3.135402   0.689824  -0.726891  -0.213150   \n",
      "3  Windows laptop      4.0  -4.769360   0.059125   0.485486  -0.649648   \n",
      "4  Windows laptop      3.0   0.457567   3.536324  -0.203215  -0.088741   \n",
      "\n",
      "   Persona_5  \n",
      "0   0.945104  \n",
      "1  -0.068487  \n",
      "2   0.307827  \n",
      "3  -1.936101  \n",
      "4  -0.252806  \n"
     ]
    }
   ],
   "source": [
    "# concatenating cluster memberships with principal components\n",
    "clst_pca_df = pd.concat([minimal_kmeans_pca, X_pca_df], axis=1)\n",
    "\n",
    "# checking results\n",
    "clst_pca_df\n",
    "\n",
    "# concatenating demographic information with pca-clusters\n",
    "final_pca_clust_df = pd.concat([\n",
    "    survey.\n",
    "    loc[:, ['Program?', 'Age?', 'Gender', 'Current_Laptop', 'Wished_Laptop']],\n",
    "    clst_pca_df\n",
    "],\n",
    "                               axis=1)\n",
    "\n",
    "# renaming columns\n",
    "final_pca_clust_df.columns = [\n",
    "    'Program', 'Age', 'Gender', 'Current_Laptop', 'Wished_Laptop', 'Cluster',\n",
    "    'Persona_1', 'Persona_2', 'Persona_3', 'Persona_4', 'Persona_5'\n",
    "]\n",
    "\n",
    "# checking the results\n",
    "print(final_pca_clust_df.head(n=5))"
   ]
  },
  {
   "cell_type": "code",
   "execution_count": 30,
   "metadata": {
    "ExecuteTime": {
     "end_time": "2021-02-01T06:38:17.103419Z",
     "start_time": "2021-02-01T06:38:17.091417Z"
    },
    "code_folding": [
     0
    ]
   },
   "outputs": [
    {
     "data": {
      "text/html": [
       "<div>\n",
       "<style scoped>\n",
       "    .dataframe tbody tr th:only-of-type {\n",
       "        vertical-align: middle;\n",
       "    }\n",
       "\n",
       "    .dataframe tbody tr th {\n",
       "        vertical-align: top;\n",
       "    }\n",
       "\n",
       "    .dataframe thead th {\n",
       "        text-align: right;\n",
       "    }\n",
       "</style>\n",
       "<table border=\"1\" class=\"dataframe\">\n",
       "  <thead>\n",
       "    <tr style=\"text-align: right;\">\n",
       "      <th></th>\n",
       "      <th>Program</th>\n",
       "      <th>Age</th>\n",
       "      <th>Gender</th>\n",
       "      <th>Current_Laptop</th>\n",
       "      <th>Wished_Laptop</th>\n",
       "      <th>Cluster</th>\n",
       "      <th>Persona_1</th>\n",
       "      <th>Persona_2</th>\n",
       "      <th>Persona_3</th>\n",
       "      <th>Persona_4</th>\n",
       "      <th>Persona_5</th>\n",
       "    </tr>\n",
       "  </thead>\n",
       "  <tbody>\n",
       "    <tr>\n",
       "      <th>0</th>\n",
       "      <td>DD (MIB &amp; Business Analytics)</td>\n",
       "      <td>25.0</td>\n",
       "      <td>Female</td>\n",
       "      <td>Macbook</td>\n",
       "      <td>Macbook</td>\n",
       "      <td>1.0</td>\n",
       "      <td>0.901083</td>\n",
       "      <td>-0.211722</td>\n",
       "      <td>-0.093727</td>\n",
       "      <td>0.016696</td>\n",
       "      <td>0.945104</td>\n",
       "    </tr>\n",
       "    <tr>\n",
       "      <th>1</th>\n",
       "      <td>One year Business Analytics</td>\n",
       "      <td>27.0</td>\n",
       "      <td>Male</td>\n",
       "      <td>Windows laptop</td>\n",
       "      <td>Windows laptop</td>\n",
       "      <td>2.0</td>\n",
       "      <td>-1.624160</td>\n",
       "      <td>0.596972</td>\n",
       "      <td>0.748899</td>\n",
       "      <td>0.945988</td>\n",
       "      <td>-0.068487</td>\n",
       "    </tr>\n",
       "    <tr>\n",
       "      <th>2</th>\n",
       "      <td>One year Business Analytics</td>\n",
       "      <td>25.0</td>\n",
       "      <td>Male</td>\n",
       "      <td>Windows laptop</td>\n",
       "      <td>Windows laptop</td>\n",
       "      <td>0.0</td>\n",
       "      <td>3.135402</td>\n",
       "      <td>0.689824</td>\n",
       "      <td>-0.726891</td>\n",
       "      <td>-0.213150</td>\n",
       "      <td>0.307827</td>\n",
       "    </tr>\n",
       "    <tr>\n",
       "      <th>3</th>\n",
       "      <td>One year Business Analytics</td>\n",
       "      <td>26.0</td>\n",
       "      <td>Female</td>\n",
       "      <td>Windows laptop</td>\n",
       "      <td>Windows laptop</td>\n",
       "      <td>4.0</td>\n",
       "      <td>-4.769360</td>\n",
       "      <td>0.059125</td>\n",
       "      <td>0.485486</td>\n",
       "      <td>-0.649648</td>\n",
       "      <td>-1.936101</td>\n",
       "    </tr>\n",
       "    <tr>\n",
       "      <th>4</th>\n",
       "      <td>DD (MBA &amp; Disruptive innovation)</td>\n",
       "      <td>27.0</td>\n",
       "      <td>Male</td>\n",
       "      <td>Macbook</td>\n",
       "      <td>Windows laptop</td>\n",
       "      <td>3.0</td>\n",
       "      <td>0.457567</td>\n",
       "      <td>3.536324</td>\n",
       "      <td>-0.203215</td>\n",
       "      <td>-0.088741</td>\n",
       "      <td>-0.252806</td>\n",
       "    </tr>\n",
       "  </tbody>\n",
       "</table>\n",
       "</div>"
      ],
      "text/plain": [
       "                            Program   Age  Gender  Current_Laptop  \\\n",
       "0     DD (MIB & Business Analytics)  25.0  Female         Macbook   \n",
       "1       One year Business Analytics  27.0    Male  Windows laptop   \n",
       "2       One year Business Analytics  25.0    Male  Windows laptop   \n",
       "3       One year Business Analytics  26.0  Female  Windows laptop   \n",
       "4  DD (MBA & Disruptive innovation)  27.0    Male         Macbook   \n",
       "\n",
       "    Wished_Laptop  Cluster  Persona_1  Persona_2  Persona_3  Persona_4  \\\n",
       "0         Macbook      1.0   0.901083  -0.211722  -0.093727   0.016696   \n",
       "1  Windows laptop      2.0  -1.624160   0.596972   0.748899   0.945988   \n",
       "2  Windows laptop      0.0   3.135402   0.689824  -0.726891  -0.213150   \n",
       "3  Windows laptop      4.0  -4.769360   0.059125   0.485486  -0.649648   \n",
       "4  Windows laptop      3.0   0.457567   3.536324  -0.203215  -0.088741   \n",
       "\n",
       "   Persona_5  \n",
       "0   0.945104  \n",
       "1  -0.068487  \n",
       "2   0.307827  \n",
       "3  -1.936101  \n",
       "4  -0.252806  "
      ]
     },
     "execution_count": 30,
     "metadata": {},
     "output_type": "execute_result"
    }
   ],
   "source": [
    "# adding a productivity step\n",
    "data_df = final_pca_clust_df\n",
    "\n",
    "# Deleting NaNs\n",
    "data_df = data_df.dropna()\n",
    "\n",
    "# checking results\n",
    "data_df.head(5)"
   ]
  },
  {
   "cell_type": "markdown",
   "metadata": {},
   "source": [
    "### Visual Analysis of Demographics "
   ]
  },
  {
   "cell_type": "code",
   "execution_count": 44,
   "metadata": {
    "ExecuteTime": {
     "end_time": "2021-02-01T07:36:27.007305Z",
     "start_time": "2021-02-01T07:36:26.737394Z"
    },
    "code_folding": [
     0
    ],
    "scrolled": true
   },
   "outputs": [
    {
     "data": {
      "image/png": "[encoded data removed]",
      "text/plain": [
       "<Figure size 864x576 with 1 Axes>"
      ]
     },
     "metadata": {
      "needs_background": "light"
     },
     "output_type": "display_data"
    }
   ],
   "source": [
    "#\n",
    "fig, ax = plt.subplots(figsize = (12, 8))\n",
    "sns.boxplot(x    = 'Wished_Laptop',\n",
    "            y    = 'Persona_2',\n",
    "            hue  = 'Cluster',\n",
    "            data = data_df)\n",
    "\n",
    "\n",
    "# formatting and displaying the plot\n",
    "plt.show()"
   ]
  },
  {
   "cell_type": "code",
   "execution_count": 45,
   "metadata": {
    "ExecuteTime": {
     "end_time": "2021-02-01T07:36:32.823343Z",
     "start_time": "2021-02-01T07:36:32.553282Z"
    },
    "code_folding": [
     0
    ]
   },
   "outputs": [
    {
     "data": {
      "image/png": "[encoded data removed]",
      "text/plain": [
       "<Figure size 864x576 with 1 Axes>"
      ]
     },
     "metadata": {
      "needs_background": "light"
     },
     "output_type": "display_data"
    }
   ],
   "source": [
    "#\n",
    "fig, ax = plt.subplots(figsize = (12, 8))\n",
    "sns.boxplot(x    = 'Wished_Laptop',\n",
    "            y    = 'Persona_3',\n",
    "            hue  = 'Cluster',\n",
    "            data = data_df)\n",
    "\n",
    "\n",
    "# formatting and displaying the plot\n",
    "plt.show()"
   ]
  },
  {
   "cell_type": "markdown",
   "metadata": {},
   "source": [
    "## Report Insights"
   ]
  },
  {
   "cell_type": "markdown",
   "metadata": {},
   "source": [
    "<B>UNDERSTANDING OUR PERSONAS:</B>"
   ]
  },
  {
   "cell_type": "markdown",
   "metadata": {},
   "source": [
    "The answers to the survey are, of course, self-reported and therefore should be taken with a grain of salt.\n",
    "<br>\n",
    "How can we make sense of our principal component groupings?\n",
    "<br>\n",
    "<br>\n",
    "<b>Persona 1:</b> \n",
    "<blockquote>\n",
    "In the nicest terms possible, losers can be found in this bracket. Their scores are borderline self-depreciating, with negative values across all 5 traits. Their HULT DNA is non-existent. \n",
    "</blockquote>\n",
    "<b>Persona 2:</b> \n",
    "<blockquote>\n",
    "Excellent big 5 scorers. They sit on the nicer side of average, with 'Galactic Genius' as a seemingly common denominator. Possibly suffers from an overblown ego due to excessively good scores, but terrible Hult DNA.  \n",
    "</blockquote>\n",
    "<b>Persona 3:</b>\n",
    "<blockquote>\n",
    "The most HULT-compatible bracket. Very good emotional _AND_ intelligence scores in the big 5 category. However, may suffer from excessive introversion due to lowest score on extroversion. \n",
    "</blockquote>\n",
    "<b>Persona 4:</b> \n",
    "<blockquote>\n",
    "This type has solid emotional intelligence, but scores themselves as relatively unintelligent. They have the second best HULT DNA scores, and score well on conscientiousness. Perhaps a bracket of happy people to hang around. \n",
    "</blockquote>\n",
    "<b>Persona 5:</b> \n",
    "<blockquote>\n",
    "The most average person you can imagine. Placid across the board, scores almost 0 on both the HULT and Big 5 total scores. Of note are their terrible Agreeableness yet extremely high Conscientiousness scores. \n",
    "</blockquote>"
   ]
  },
  {
   "cell_type": "markdown",
   "metadata": {},
   "source": [
    "<B>WHO BUYS WHAT LAPTOP?</B>"
   ]
  },
  {
   "cell_type": "markdown",
   "metadata": {},
   "source": [
    "Currently, 50% of our respondents possess a MacBook. The rest operate on Windows. \n",
    "<br><br>\n",
    "Interestingly, and despite studying in technology fields, 56.2% of students indicate wishing to purchase a MacBook - should prices be comparable(1). \n",
    "<br><br>\n",
    "Our first instinct would be to state that prices _really are not the same in the real world_, and that therefore the question makes it seem as if students would stand to gain by choosing the MacBook under same price conditions. \n",
    "<br><br>\n",
    "Out of the 4 different degree types, the dual degree in MBAN seems to be the only one with a higher MacBook-to-Windows ratio, but it does so by a strong margin (~40 to 25). \n",
    "<br><br>\n",
    "We also found that, whilst current MacBook ownership is higher amongst Males in our sample, projected next ownership would become higher amongst Females. This is interesting, as it conflicts with our external research stating that the typical demographic profile of Mac users is white, Male, aged 25 to 34, college-educated and renting in urban areas(2).  \n",
    "<br><br>\n",
    "\n",
    "\n",
    "\n",
    "(1) _Mac users are more likely to have a higher household income (>US$125K)_.From: Sunali, Kara. 2018. 'Ask Wonder: Laptop consumers'.\n",
    "<br>\n",
    "(2) _Ibid_"
   ]
  },
  {
   "cell_type": "markdown",
   "metadata": {},
   "source": [
    "<B>WHICH PERSONA BUYS WHAT LAPTOP?</B>"
   ]
  },
  {
   "cell_type": "markdown",
   "metadata": {},
   "source": [
    "The most interesting distributions for wished next laptop happen around Personas 2 and 3.\n",
    "<br><br>\n",
    "In the graphs above, we are witnessing some real disparities between clusters 2,3,4 and 5. This leads us to believe that there is something about these personas which make them better Apple targets. \n",
    "<br><br>\n",
    "<b>Personas 2 and 3 have the best reported HULT and BIG 5 scores, without any big penalizing faults.</b>\n",
    "<br><br>\n",
    "It almost seems like <b>having a positive opinion of yourself makes you more prone to buying an Apple laptop</b>. This is extremely interesting, as it informs how and especially to whom we should market our computers. \n",
    "<br><br> \n"
   ]
  },
  {
   "cell_type": "markdown",
   "metadata": {},
   "source": [
    "<B>SO...HOW DO WE CAMPAIGN THEN?</B>"
   ]
  },
  {
   "cell_type": "markdown",
   "metadata": {},
   "source": [
    "If we were to make recommendations on our results alone, Team 4 would advise marketing along existing brand image guidelines. We know that Apple already markets itself as the brand for 'the do-ers', and this could mean that our marketing is already proving so effective, that it is now reflecting in our consumer base amongst HULT students.\n",
    "<br><br>\n",
    "Is it worth to base our entire marketing on self-reported scores from Business School students? Absolutely not. Is it in the least indicative of what these students want out of their computers? Not really. \n",
    "<br><br>\n",
    "Does it really matter if they are entrapped by our positivity campaign? Does it matter if we're selling to HULT students, a demographic selected and drilled on new-age 'positivity DNA' values? <b>Our data suggest that no, it does not.\n",
    "<br><br>Positivity sells (maybe).</b> "
   ]
  },
  {
   "cell_type": "code",
   "execution_count": null,
   "metadata": {},
   "outputs": [],
   "source": []
  }
 ],
 "metadata": {
  "kernelspec": {
   "display_name": "Python 3",
   "language": "python",
   "name": "python3"
  },
  "language_info": {
   "codemirror_mode": {
    "name": "ipython",
    "version": 3
   },
   "file_extension": ".py",
   "mimetype": "text/x-python",
   "name": "python",
   "nbconvert_exporter": "python",
   "pygments_lexer": "ipython3",
   "version": "3.8.3"
  },
  "toc": {
   "base_numbering": 1,
   "nav_menu": {},
   "number_sections": true,
   "sideBar": true,
   "skip_h1_title": false,
   "title_cell": "Table of Contents",
   "title_sidebar": "Contents",
   "toc_cell": false,
   "toc_position": {
    "height": "calc(100% - 180px)",
    "left": "10px",
    "top": "150px",
    "width": "218px"
   },
   "toc_section_display": true,
   "toc_window_display": true
  },
  "varInspector": {
   "cols": {
    "lenName": 16,
    "lenType": 16,
    "lenVar": 40
   },
   "kernels_config": {
    "python": {
     "delete_cmd_postfix": "",
     "delete_cmd_prefix": "del ",
     "library": "var_list.py",
     "varRefreshCmd": "print(var_dic_list())"
    },
    "r": {
     "delete_cmd_postfix": ") ",
     "delete_cmd_prefix": "rm(",
     "library": "var_list.r",
     "varRefreshCmd": "cat(var_dic_list()) "
    }
   },
   "position": {
    "height": "224px",
    "left": "1549px",
    "right": "20px",
    "top": "136px",
    "width": "350px"
   },
   "types_to_exclude": [
    "module",
    "function",
    "builtin_function_or_method",
    "instance",
    "_Feature"
   ],
   "window_display": false
  }
 },
 "nbformat": 4,
 "nbformat_minor": 5
}
